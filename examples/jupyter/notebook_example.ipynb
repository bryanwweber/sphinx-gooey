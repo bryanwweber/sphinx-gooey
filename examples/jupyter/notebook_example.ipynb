{
 "cells": [
  {
   "cell_type": "markdown",
   "id": "60a0cb54",
   "metadata": {},
   "source": [
    "# Some Header Title\n",
    "\n",
    "Some text on this line with *some* **formatting**. Maybe also some `code` formatting.\n",
    "\n",
    "Then some more text on this line"
   ]
  },
  {
   "cell_type": "code",
   "execution_count": 1,
   "id": "594b88f5",
   "metadata": {},
   "outputs": [
    {
     "name": "stdout",
     "output_type": "stream",
     "text": [
      "This is some fake output"
     ]
    }
   ],
   "source": [
    "from pathlib import Path\n",
    "HERE = Path.cwd().parent\n",
    "print(HERE)"
   ]
  }
 ],
 "metadata": {
  "jupytext": {
   "formats": "ipynb,md:myst"
  },
  "kernelspec": {
   "display_name": "Python 3",
   "language": "python",
   "name": "python3"
  },
  "language_info": {
   "codemirror_mode": {
    "name": "ipython",
    "version": 3
   },
   "file_extension": ".py",
   "mimetype": "text/x-python",
   "name": "python",
   "nbconvert_exporter": "python",
   "pygments_lexer": "ipython3",
   "version": "3.9.10"
  }
 },
 "nbformat": 4,
 "nbformat_minor": 5
}
